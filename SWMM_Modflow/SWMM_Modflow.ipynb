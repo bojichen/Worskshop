{
 "cells": [
  {
   "cell_type": "markdown",
   "metadata": {},
   "source": [
    "# 1. Install required packages"
   ]
  },
  {
   "cell_type": "code",
   "execution_count": null,
   "metadata": {},
   "outputs": [],
   "source": [
    "# !pip install numpy\n",
    "# !pip install pandas\n",
    "# !pip install matplotlib\n",
    "\n",
    "# !pip install pyswmm\n",
    "# !pip install flopy"
   ]
  },
  {
   "cell_type": "markdown",
   "metadata": {},
   "source": [
    "# 2. Import required packages"
   ]
  },
  {
   "cell_type": "code",
   "execution_count": null,
   "metadata": {},
   "outputs": [],
   "source": [
    "import os\n",
    "import numpy as np\n",
    "import pandas as pd\n",
    "import matplotlib.pyplot as  plt\n",
    "import matplotlib.patches as patches\n",
    "import matplotlib.dates as mdates\n",
    "from matplotlib.colors import ListedColormap, BoundaryNorm\n",
    "from datetime import datetime\n",
    "from shapely.geometry import Polygon\n",
    "\n",
    "import pyswmm\n",
    "from pyswmm import Simulation, Subcatchments, Nodes, Links, SimulationPreConfig, Output\n",
    "\n",
    "from swmm.toolkit.shared_enum import SubcatchAttribute, NodeAttribute, LinkAttribute\n",
    "\n",
    "import flopy"
   ]
  },
  {
   "cell_type": "markdown",
   "metadata": {},
   "source": [
    "# 3. SWMM and Pyswmm"
   ]
  },
  {
   "cell_type": "markdown",
   "metadata": {},
   "source": [
    "## 3.1 Compoenents and structure of Pyswmm"
   ]
  },
  {
   "cell_type": "code",
   "execution_count": null,
   "metadata": {},
   "outputs": [],
   "source": [
    "# check the modules within Pyswmm\n",
    "pyswmm.__all__"
   ]
  },
  {
   "cell_type": "code",
   "execution_count": null,
   "metadata": {},
   "outputs": [],
   "source": [
    "# check the docstring of the Simulation class\n",
    "print(Simulation.__doc__)\n",
    "# Simulation?"
   ]
  },
  {
   "cell_type": "markdown",
   "metadata": {},
   "source": [
    "### 3.1.1 Sim module"
   ]
  },
  {
   "cell_type": "code",
   "execution_count": null,
   "metadata": {},
   "outputs": [],
   "source": [
    "# Initiliaze the simulation object\n",
    "sim = Simulation('./Espresso/Example1.inp')"
   ]
  },
  {
   "cell_type": "code",
   "execution_count": null,
   "metadata": {},
   "outputs": [],
   "source": [
    "# attributes, property, methods in the sim object\n",
    "sim.__dir__()"
   ]
  },
  {
   "cell_type": "code",
   "execution_count": null,
   "metadata": {},
   "outputs": [],
   "source": [
    "# check the property\n",
    "print(sim.flow_units, sim.start_time, sim.end_time)   # CFS: cubic feet per second"
   ]
  },
  {
   "cell_type": "markdown",
   "metadata": {},
   "source": [
    "### 3.1.2 Subctachments"
   ]
  },
  {
   "cell_type": "code",
   "execution_count": null,
   "metadata": {},
   "outputs": [],
   "source": [
    "# subcatchements is a collection of subcatchments in the model\n",
    "\n",
    "subcatchments = Subcatchments(sim)\n",
    "\n",
    "print(len(subcatchments))\n",
    "print(\"1\" in subcatchments)"
   ]
  },
  {
   "cell_type": "code",
   "execution_count": null,
   "metadata": {},
   "outputs": [],
   "source": [
    "# Iterate through the subcatchments\n",
    "\n",
    "for subcatchment in subcatchments:\n",
    "    print(f'Subcatchment {subcatchment.subcatchmentid} has {subcatchment.area} ha, and its outlet is {subcatchment.connection}')"
   ]
  },
  {
   "cell_type": "code",
   "execution_count": null,
   "metadata": {},
   "outputs": [],
   "source": [
    "# check one subcatchment's property\n",
    "\n",
    "S1 = subcatchments['1']\n",
    "print(f'The area of subcatchment {S1.subcatchmentid} is {S1.area} ha')\n",
    "print(f'The impervious percentage of subcatchment {S1.subcatchmentid} is {S1.percent_impervious}')\n",
    "print(f'The width of subcatchment {S1.subcatchmentid} is {S1.width}')"
   ]
  },
  {
   "cell_type": "markdown",
   "metadata": {},
   "source": [
    "### 3.1.3 Nodes: Outfalls, Junctions, divider and storage"
   ]
  },
  {
   "cell_type": "markdown",
   "metadata": {},
   "source": [
    "#### Practice\n",
    "* Check how many nodes in the model\n",
    "* Tell which one is the outfall, others are junctions"
   ]
  },
  {
   "cell_type": "markdown",
   "metadata": {},
   "source": [
    "### 3.1.4 Links: conduit, orifice, pump, weir and outlet"
   ]
  },
  {
   "cell_type": "markdown",
   "metadata": {},
   "source": [
    "#### Practice\n",
    "* Check how many Links in the model\n",
    "* Tell the type of each Links"
   ]
  },
  {
   "cell_type": "markdown",
   "metadata": {},
   "source": [
    "### 3.1.5 Run the simulation"
   ]
  },
  {
   "cell_type": "code",
   "execution_count": null,
   "metadata": {},
   "outputs": [],
   "source": [
    "# Running the simulation\n",
    "\n",
    "sim.execute()"
   ]
  },
  {
   "cell_type": "markdown",
   "metadata": {},
   "source": [
    "## 3.2 Modifying the input file"
   ]
  },
  {
   "cell_type": "markdown",
   "metadata": {},
   "source": [
    "### 3.2.1 Modify one input file "
   ]
  },
  {
   "cell_type": "code",
   "execution_count": null,
   "metadata": {},
   "outputs": [],
   "source": [
    "# using the SimulationPreConfig class to pre-configure the simulation\n",
    "\n",
    "# Create Config Handle\n",
    "sim_conf = SimulationPreConfig()\n",
    "\n",
    "# Specifying the update parameters\n",
    "# Parameter Order:\n",
    "# Section, Object ID, Parameter Index, New Value, Obj Row Num (optional)\n",
    "sim_conf.add_update_by_token(\"SUBCATCHMENTS\", \"1\", 3, \"5\")\n",
    "\n",
    "with Simulation('./Espresso/Example1.inp', sim_preconfig = sim_conf) as sim:\n",
    "    S1 = Subcatchments(sim)[\"1\"]\n",
    "    print(S1.area)"
   ]
  },
  {
   "cell_type": "markdown",
   "metadata": {},
   "source": [
    "### 3.2.2 Batch modification of the input file"
   ]
  },
  {
   "cell_type": "code",
   "execution_count": null,
   "metadata": {},
   "outputs": [],
   "source": [
    "area_increase = {\n",
    "    \"A10%\": 1.1,\n",
    "    \"A20%\": 1.2,\n",
    "    \"A30%\": 1.3,\n",
    "}"
   ]
  },
  {
   "cell_type": "code",
   "execution_count": null,
   "metadata": {},
   "outputs": [],
   "source": [
    "\n",
    "for key, value in area_increase.items():\n",
    "    sim_conf = SimulationPreConfig()\n",
    "    sim_conf.add_update_by_token(\"SUBCATCHMENTS\", \"1\", 3, f'{10*value}')\n",
    "\n",
    "    sim_conf.input_files = './Espresso/Example1.inp'\n",
    "    sim_conf.filename_suffix = f'_{key}'\n",
    "\n",
    "    with Simulation('./Espresso/Example1.inp', sim_preconfig = sim_conf) as sim:\n",
    "        S1 = Subcatchments(sim)[\"1\"]\n",
    "        print(f'{key} area increase: {S1.area}')\n",
    "        "
   ]
  },
  {
   "cell_type": "markdown",
   "metadata": {},
   "source": [
    "#### Practice\n",
    "* Increase the area and width of subcatchment 1 by 10%, 20%, and 30%, respectively"
   ]
  },
  {
   "cell_type": "markdown",
   "metadata": {},
   "source": [
    "###  3.2.3 Interacting with the simulation"
   ]
  },
  {
   "cell_type": "code",
   "execution_count": null,
   "metadata": {},
   "outputs": [],
   "source": [
    "CONSTANT_FLOWRATE = 10\n",
    "\n",
    "with Simulation('./Espresso/Example1.inp') as sim:\n",
    "    node_9 = Nodes(sim)['9']\n",
    "\n",
    "    for step in sim:\n",
    "        node_9.generated_inflow(CONSTANT_FLOWRATE)\n",
    "        \n",
    "    print(node_9.statistics)"
   ]
  },
  {
   "cell_type": "code",
   "execution_count": null,
   "metadata": {},
   "outputs": [],
   "source": [
    "def flow_rate(time: datetime):\n",
    "    if time < datetime(1998, 1, 2, 0, 0):\n",
    "        return 0.0\n",
    "    else:\n",
    "        return CONSTANT_FLOWRATE\n",
    "\n",
    "with Simulation('./Espresso/Example1.inp') as sim:\n",
    "    node_9 = Nodes(sim)['9']\n",
    "\n",
    "    for step in sim:\n",
    "        node_9.generated_inflow(flow_rate(sim.current_time))\n",
    "\n",
    "    print(node_9.statistics)"
   ]
  },
  {
   "cell_type": "markdown",
   "metadata": {},
   "source": [
    "## 3.3 Result interpretation"
   ]
  },
  {
   "cell_type": "code",
   "execution_count": null,
   "metadata": {},
   "outputs": [],
   "source": [
    "# Read the output file, store the data in a pandas dataframe\n",
    "\n",
    "with Output('./Espresso/Example1.out') as out:\n",
    "    node_head_outfile = out.node_series('21', NodeAttribute.HYDRAULIC_HEAD)\n",
    "    link_flow_outfile = out.link_series('15', LinkAttribute.FLOW_RATE)"
   ]
  },
  {
   "cell_type": "code",
   "execution_count": null,
   "metadata": {},
   "outputs": [],
   "source": [
    "node_head_outfile"
   ]
  },
  {
   "cell_type": "code",
   "execution_count": null,
   "metadata": {},
   "outputs": [],
   "source": [
    "\n",
    "fig = plt.figure(figsize=(8,4), dpi=200) #Inches Width, Height\n",
    "fig.suptitle(\"Node 21 Head and Link 15 Flow from output\")\n",
    "\n",
    "# Plot from the results compiled during simulation time\n",
    "# add the first panel to the figure\n",
    "axis_1 = fig.add_subplot(2,1,1)   \n",
    "\n",
    "# Plot node head from the output file\n",
    "x = node_head_outfile.keys() \n",
    "y = [node_head_outfile[key] for key in node_head_outfile.keys()]\n",
    "axis_1.plot(x, y)\n",
    "axis_1.set_ylabel(\"Head (ft)\")\n",
    "axis_1.grid(\"xy\")\n",
    "\n",
    "# add the second panel to the figure, shared the x-axis with the first panel\n",
    "axis_2 = fig.add_subplot(2,1,2, sharex=axis_1)\n",
    "\n",
    "# plot the link flowrate from the output file\n",
    "x = link_flow_outfile.keys()\n",
    "y = [link_flow_outfile[key] for key in link_flow_outfile.keys()]\n",
    "axis_2.plot(x, y)\n",
    "axis_2.set_ylabel(\"Flow (CFS)\")\n",
    "axis_2.xaxis.set_major_formatter(mdates.DateFormatter('%m-%d %Hh'))\n",
    "axis_2.grid(\"xy\")\n",
    "\n",
    "fig.autofmt_xdate()\n",
    "plt.tight_layout()\n",
    "plt.savefig(\"TEST.PNG\")\n",
    "plt.show()\n"
   ]
  },
  {
   "cell_type": "markdown",
   "metadata": {},
   "source": [
    "# 4. Modflow and Flopy"
   ]
  },
  {
   "cell_type": "markdown",
   "metadata": {},
   "source": [
    "## 4.1 Create a basic MODFLOW model object\n",
    "As well as any other model generated by Flopy, first we have to setup the model name and the working directory. We strongly recommend to follow the folder/file estructure provided on the \"Input Files\" of this tutorial. Based on the complex geometry and the differences among layers elevations and layer thickness, the NWT solver has been applied to the model."
   ]
  },
  {
   "cell_type": "code",
   "execution_count": null,
   "metadata": {},
   "outputs": [],
   "source": [
    "modelname = \"model1\"\n",
    "modelpath = \"./Model/\"\n",
    "#Modflow Nwt\n",
    "mf1 = flopy.modflow.Modflow(modelname, exe_name=\"./Exe/MODFLOW-NWT_64.exe\", version=\"mfnwt\",model_ws=modelpath)\n",
    "nwt = flopy.modflow.ModflowNwt(mf1 ,maxiterout=150,linmeth=2)"
   ]
  },
  {
   "cell_type": "markdown",
   "metadata": {},
   "source": [
    "## 4.2 Spatial Discretization parameter"
   ]
  },
  {
   "cell_type": "code",
   "execution_count": null,
   "metadata": {},
   "outputs": [],
   "source": [
    "# Initialize the 20x20 grid\n",
    "dem_data = np.zeros((20, 20))\n",
    "\n",
    "# Set the first and last column values\n",
    "for i in range(20):\n",
    "    dem_data[:,i] = 100 - i\n",
    "\n",
    "print(dem_data)"
   ]
  },
  {
   "cell_type": "code",
   "execution_count": null,
   "metadata": {},
   "outputs": [],
   "source": [
    "# the layer vertcial descritization \n",
    "\n",
    "Layer1 = dem_data -10\n",
    "Layer2 = dem_data -50\n",
    "Layer3 = 0"
   ]
  },
  {
   "cell_type": "code",
   "execution_count": null,
   "metadata": {},
   "outputs": [],
   "source": [
    "# the horizontal discretization: column and row\n",
    "\n",
    "ztop = dem_data\n",
    "zbot = [Layer1, Layer2, Layer3]\n",
    "\n",
    "nlay = 3\n",
    "\n",
    "nrow = 20\n",
    "ncol = 20\n",
    "delr = 500\n",
    "delc = 500"
   ]
  },
  {
   "cell_type": "markdown",
   "metadata": {},
   "source": [
    "## 4.3 Definition of the flow packages for the MODFLOW model\n",
    "\n",
    "In this part we define the packages related to groundwater flow on the MODFLOW model. First we define the DIS package that has the geometry as well as the simulation type (steady / transient). The model run on steady conditions."
   ]
  },
  {
   "cell_type": "code",
   "execution_count": null,
   "metadata": {},
   "outputs": [],
   "source": [
    "dis = flopy.modflow.ModflowDis(mf1, nlay,nrow,ncol,delr=delr,delc=delc,top=ztop,botm=zbot,itmuni=1, steady=True)"
   ]
  },
  {
   "cell_type": "markdown",
   "metadata": {},
   "source": [
    "Then we define another MODEL packages. Some boundary conditions are setup from raster valures, while other packages use constant value. \n",
    "These are the required packages for the simulation:\n",
    "- the BAS package for setting the constant head cells and inactive cells,\n",
    "- the UPW that defines the vertical / horizontal hydraulic conductivity,\n",
    "- the RCH package that applies rechage from precipitation\n",
    "- the EVT package for the simulation of groundwater consumption from roots\n",
    "- the DRN package for the groundwater discharge to the channel network\n",
    "- the OC packages for the output record"
   ]
  },
  {
   "cell_type": "code",
   "execution_count": null,
   "metadata": {},
   "outputs": [],
   "source": [
    "# Variables for the BAS package\n",
    "iboundData = np.zeros(dem_data.shape, dtype=np.int32)\n",
    "iboundData = 1  # 1 means active cell\n",
    "bas = flopy.modflow.ModflowBas(mf1,ibound=iboundData,strt=ztop-50, hnoflo=-2.0E+020)"
   ]
  },
  {
   "cell_type": "code",
   "execution_count": null,
   "metadata": {},
   "outputs": [],
   "source": [
    "# Array of hydraulic heads per layer\n",
    "hk = [1E-3, 1E-4, 1E-5]\n",
    "\n",
    "# Add UPW package to the MODFLOW model\n",
    "upw = flopy.modflow.ModflowUpw(mf1, laytyp = [1,1,0], hk = hk)"
   ]
  },
  {
   "cell_type": "code",
   "execution_count": null,
   "metadata": {},
   "outputs": [],
   "source": [
    "#Add the recharge package (RCH) to the MODFLOW model\n",
    "rch = np.ones((nrow, ncol), dtype=np.float32) * 0.1/365/86400\n",
    "rch_data = {0: rch}\n",
    "rch = flopy.modflow.ModflowRch(mf1, nrchop=3, rech =rch_data)"
   ]
  },
  {
   "cell_type": "code",
   "execution_count": null,
   "metadata": {},
   "outputs": [],
   "source": [
    "# the constant-boundary condition\n",
    "chd_array = np.zeros(dem_data.shape, dtype=np.int32)\n",
    "chd_array[:,1]= 1\n",
    "chd_array[:,-1]= 1\n",
    "\n",
    "lst = []\n",
    "for k in range(nlay):\n",
    "    for i in range(chd_array.shape[0]):\n",
    "        for q in range(chd_array.shape[1]):\n",
    "            if chd_array[i,q] == 1:\n",
    "                elevation = ztop[i,q] - 50\n",
    "                lst.append([k,i,q,elevation,elevation]) #layer,row,column, starting head, ending head\n",
    "chd_spd = {0:lst}\n",
    "chd = flopy.modflow.ModflowChd(mf1, stress_period_data=chd_spd)"
   ]
  },
  {
   "cell_type": "code",
   "execution_count": null,
   "metadata": {},
   "outputs": [],
   "source": [
    "# Add OC package to the MODFLOW model\n",
    "oc = flopy.modflow.ModflowOc(mf1) #ihedfm= 1, iddnfm=1"
   ]
  },
  {
   "cell_type": "markdown",
   "metadata": {},
   "source": [
    "## 4.4 Model Run"
   ]
  },
  {
   "cell_type": "code",
   "execution_count": null,
   "metadata": {},
   "outputs": [],
   "source": [
    "#Write input files -> write file with extensions\n",
    "mf1.write_input()\n",
    "\n",
    "#run model -> gives the solution\n",
    "mf1.run_model()"
   ]
  },
  {
   "cell_type": "markdown",
   "metadata": {},
   "source": [
    "## 4.5 Model results post-processing\n",
    "\n",
    "This tutorial has some model features and output representation done with Flopy and Matplotlib. Another 3D representation on the VTK format is performed on another notebook from this tutorial"
   ]
  },
  {
   "cell_type": "code",
   "execution_count": null,
   "metadata": {},
   "outputs": [],
   "source": [
    "#Import model\n",
    "ml = flopy.modflow.Modflow.load('./Model/model1.nam')"
   ]
  },
  {
   "cell_type": "markdown",
   "metadata": {},
   "source": [
    "**Model grid representation**"
   ]
  },
  {
   "cell_type": "code",
   "execution_count": null,
   "metadata": {},
   "outputs": [],
   "source": [
    "# First step is to set up the plot\n",
    "fig = plt.figure(figsize=(15, 15))\n",
    "ax = fig.add_subplot(1, 1, 1, aspect='equal')\n",
    "\n",
    "# Next we create an instance of the ModelMap class\n",
    "modelmap = flopy.plot.PlotMapView(ml)\n",
    "\n",
    "# Then we can use the plot_grid() method to draw the grid\n",
    "# The return value for this function is a matplotlib LineCollection object,\n",
    "# which could be manipulated (or used) later if necessary.\n",
    "linecollection = modelmap.plot_grid(linewidth=0.4)"
   ]
  },
  {
   "cell_type": "markdown",
   "metadata": {},
   "source": [
    "**Cross section of model grid representation**"
   ]
  },
  {
   "cell_type": "code",
   "execution_count": null,
   "metadata": {},
   "outputs": [],
   "source": [
    "hdobj = flopy.utils.HeadFile('./Model/model1.hds')\n",
    "head = hdobj.get_data()\n",
    "\n",
    "fig = plt.figure(figsize=(30, 30))\n",
    "ax = fig.add_subplot(1, 2, 1, aspect='equal')\n",
    "modelmap = flopy.plot.PlotMapView(model=ml)\n",
    "# modelmap.plot_bc('DRN', color='red')\n",
    "#quadmesh = modelmap.plot_ibound()\n",
    "quadmesh = modelmap.plot_array(head, alpha=0.8)\n",
    "linecollection = modelmap.plot_grid(linewidth=0.2)\n",
    "plt.colorbar(quadmesh, ax=ax, shrink=0.5)\n",
    "plt.show()"
   ]
  },
  {
   "cell_type": "code",
   "execution_count": null,
   "metadata": {},
   "outputs": [],
   "source": [
    "fig = plt.figure(figsize=(15, 6))\n",
    "ax = fig.add_subplot(1, 1, 1)\n",
    "# Next we create an instance of the ModelCrossSection class\n",
    "#modelxsect = flopy.plot.ModelCrossSection(model=ml, line={'Column': 5})\n",
    "modelxsect = flopy.plot.PlotCrossSection(model=ml, line={'Row': 10})\n",
    "\n",
    "# Then we can use the plot_grid() method to draw the grid\n",
    "# The return value for this function is a matplotlib LineCollection object,\n",
    "# which could be manipulated (or used) later if necessary.\n",
    "linecollection = modelxsect.plot_grid(linewidth=0.4)\n",
    "linecollection = modelxsect.plot_surface(head,ax=ax)\n",
    "t = ax.set_title('Column 6 Cross-Section - Model Grid')"
   ]
  },
  {
   "cell_type": "markdown",
   "metadata": {},
   "source": [
    "# 5. Mapping the SWMM to Modflow"
   ]
  },
  {
   "cell_type": "markdown",
   "metadata": {},
   "source": [
    "## 5.1 Extract Polygons of subcatchments"
   ]
  },
  {
   "cell_type": "code",
   "execution_count": null,
   "metadata": {},
   "outputs": [],
   "source": [
    "import re\n",
    "\n",
    "data = open('./Espresso/Example1.inp').read()\n",
    "\n",
    "polygons_data = re.findall(r\"\\[Polygons\\](.*?)\\[\", data, re.DOTALL)[0]\n",
    "\n",
    "# Match each line of polygon data\n",
    "pattern = r\"(\\d+)\\s+([\\d\\.]+)\\s+([\\d\\.]+)\"\n",
    "matches = re.findall(pattern, polygons_data)\n",
    "\n",
    "polygons = {}\n",
    "for match in matches:\n",
    "    subcatchment, x_coord, y_coord = match\n",
    "    if subcatchment not in polygons:\n",
    "        polygons[subcatchment] = []\n",
    "    polygons[subcatchment].append((float(x_coord), float(y_coord)))\n",
    "\n",
    "# Ensure polygons are closed by repeating the first point at the end if necessary\n",
    "# for subcatchment, coords in polygons.items():\n",
    "#     if coords[0] != coords[-1]:  # Check if first and last points are the same\n",
    "#         coords.append(coords[0])  # Make polygon closed by adding the first point at the end\n",
    "\n",
    "for subcatchment, coords in polygons.items():\n",
    "    print(f\"Subcatchment {subcatchment}:\")\n",
    "    for coord in coords:\n",
    "        print(f\"  X-Coord: {coord[0]}, Y-Coord: {coord[1]}\")"
   ]
  },
  {
   "cell_type": "code",
   "execution_count": null,
   "metadata": {},
   "outputs": [],
   "source": [
    "# draw the ploygon:\n",
    "fig, ax = plt.subplots(figsize=(10, 10))\n",
    "for subcatchment, coords in polygons.items():\n",
    "    x, y = zip(*coords)\n",
    "    ax.plot(x, y, label=f\"Subcatchment {subcatchment}\")\n",
    "\n",
    "# plot a square 10000 ft by 10000 ft\n",
    "square = patches.Rectangle((0,0), 9500, 10000, linewidth=1, edgecolor='r', facecolor='none')\n",
    "ax.add_patch(square)\n",
    "\n",
    "ax.set_xticks(range(0, 10000, 500))\n",
    "ax.set_yticks(range(0, 10000, 500))\n",
    "ax.grid(True)\n",
    "\n",
    "ax.legend(ncol=3, bbox_to_anchor=(0.7, -0.05))\n",
    "plt.show()"
   ]
  },
  {
   "cell_type": "code",
   "execution_count": null,
   "metadata": {},
   "outputs": [],
   "source": [
    "polygons"
   ]
  },
  {
   "cell_type": "markdown",
   "metadata": {},
   "source": [
    "## 5.2 Mapping the cell to the subcatchment"
   ]
  },
  {
   "cell_type": "code",
   "execution_count": null,
   "metadata": {},
   "outputs": [],
   "source": [
    "mapping_matrix = np.zeros((20, 20))\n",
    "\n",
    "for i in range(20):\n",
    "    for j in range(20):\n",
    "        cell = Polygon(\n",
    "            [\n",
    "                (j * 500, (20 - i) * 500),\n",
    "                (j * 500 + 500, (20 - i) * 500),\n",
    "                (j * 500 + 500, (20 - i) * 500 - 500),\n",
    "                (j * 500, (20 - i) * 500 - 500)  # Corrected this line\n",
    "            ]\n",
    "        )\n",
    "\n",
    "        found = False  # Flag to check if a subcatchment contains the cell\n",
    "        for subcatchment, coords in polygons.items():\n",
    "            polygon = Polygon(coords)\n",
    "            if polygon.contains(cell):\n",
    "                mapping_matrix[i, j] = int(subcatchment)\n",
    "                found = True\n",
    "                break  # Exit the loop once a containing polygon is found\n",
    "        if not found:\n",
    "            mapping_matrix[i, j] = 0  # Assign 0 if no containing polygon is found"
   ]
  },
  {
   "cell_type": "code",
   "execution_count": null,
   "metadata": {},
   "outputs": [],
   "source": [
    "# Use a default colormap (e.g., 'viridis', 'plasma', 'inferno', 'magma', 'cividis')\n",
    "cmap = plt.get_cmap('viridis')\n",
    "\n",
    "# Define boundaries for the colors\n",
    "bounds = np.arange(-0.5, 9, 1)\n",
    "\n",
    "# Create a BoundaryNorm instance\n",
    "norm = BoundaryNorm(bounds, cmap.N)\n",
    "\n",
    "fig, ax = plt.subplots(figsize=(10, 10))\n",
    "cax = ax.matshow(mapping_matrix, cmap=cmap, norm=norm)\n",
    "\n",
    "# Add colorbar with ticks at the center of each segment\n",
    "fig.colorbar(cax, ticks=np.arange(0, 9))\n",
    "\n",
    "# Annotate each cell with the numeric value\n",
    "for i in range(mapping_matrix.shape[0]):\n",
    "    for j in range(mapping_matrix.shape[1]):\n",
    "        text = ax.text(j, i, mapping_matrix[i, j],\n",
    "                       ha=\"center\", va=\"center\", color=\"w\")\n",
    "\n",
    "\n",
    "plt.show()\n"
   ]
  },
  {
   "cell_type": "markdown",
   "metadata": {},
   "source": [
    "# 6. Coupling SWMM and Modflow"
   ]
  },
  {
   "cell_type": "markdown",
   "metadata": {},
   "source": [
    "## 6.1 Change the Modflow modle to transient study"
   ]
  },
  {
   "cell_type": "code",
   "execution_count": null,
   "metadata": {},
   "outputs": [],
   "source": [
    "dis = flopy.modflow.ModflowDis(mf1, nlay,nrow,ncol,delr=delr,delc=delc,top=ztop,botm=zbot,itmuni=1, steady=False)"
   ]
  },
  {
   "cell_type": "code",
   "execution_count": null,
   "metadata": {},
   "outputs": [],
   "source": [
    "strt = ztop - 50"
   ]
  },
  {
   "cell_type": "markdown",
   "metadata": {},
   "source": [
    "## 6.1 Coupling"
   ]
  },
  {
   "cell_type": "code",
   "execution_count": null,
   "metadata": {},
   "outputs": [],
   "source": [
    "with Simulation('./Espresso/Example2.inp') as sim:\n",
    "    step_counter = 0\n",
    "    hourly_counter = 0\n",
    "    infil_dict_current_dt = {}  # Initialize current timestep infiltration dictionary\n",
    "    infil_dict_previous_acc = {}  # Initialize previous accumulated infiltration dictionary\n",
    "\n",
    "    for step in sim:\n",
    "        step_counter += 1\n",
    "\n",
    "        if step_counter == 60:  # Every 60 steps, assuming 1 step = 1 minute for hourly processing\n",
    "            step_counter = 0\n",
    "\n",
    "            print('Current Time:', sim.current_time)\n",
    "\n",
    "            subcatchments = Subcatchments(sim)\n",
    "\n",
    "            # Process infiltration rates\n",
    "            for subcatchment in subcatchments:\n",
    "                infiltration = subcatchment.statistics['infiltration']\n",
    "                sub_id = subcatchment.subcatchmentid\n",
    "                if sub_id not in infil_dict_previous_acc:\n",
    "                    infil_dict_previous_acc[sub_id] = 0  # Initialize if not present\n",
    "                infil_rate = (infiltration - infil_dict_previous_acc[sub_id]) / (subcatchment.area * 1000)\n",
    "                infil_dict_current_dt[sub_id] = infil_rate\n",
    "                infil_dict_previous_acc[sub_id] = infiltration\n",
    "\n",
    "            # Prepare recharge array\n",
    "            recharge_array = np.zeros((nrow, ncol))\n",
    "            for i in range(nrow):\n",
    "                for j in range(ncol):\n",
    "                    if mapping_matrix[i, j] != 0:\n",
    "                        recharge_array[i, j] = infil_dict_current_dt.get(str(int(mapping_matrix[i, j])), 0)\n",
    "\n",
    "            rch_data = {0: recharge_array}\n",
    "            rch = flopy.modflow.ModflowRch(mf1, nrchop=3, rech=rch_data)\n",
    "            bas = flopy.modflow.ModflowBas(mf1, ibound=iboundData, strt=strt)\n",
    "\n",
    "            mf1.write_input()\n",
    "\n",
    "            try:\n",
    "                success, buff = mf1.run_model(silent=True)\n",
    "                if not success:\n",
    "                    raise Exception(\"MODFLOW run failed.\")\n",
    "            except Exception as e:\n",
    "                print(f\"Error in MODFLOW: {e}\")\n",
    "                break\n",
    "\n",
    "            fname = os.path.join('Model', 'model1.hds')\n",
    "            headfile = flopy.utils.HeadFile(fname, model=mf1)\n",
    "            heads = headfile.get_data()\n",
    "            heads[np.isin(heads, [1.e+30, -999.99])] = np.nan  # Replace invalid values with NaN\n",
    "\n",
    "            strt = heads[0]  # Update starting heads for the next simulation step"
   ]
  },
  {
   "cell_type": "markdown",
   "metadata": {},
   "source": [
    "## 6.3 Visualizing the Results"
   ]
  },
  {
   "cell_type": "code",
   "execution_count": null,
   "metadata": {},
   "outputs": [],
   "source": [
    "hdobj = flopy.utils.HeadFile('./Model/model1.hds')\n",
    "head = hdobj.get_data()\n",
    "\n",
    "fig = plt.figure(figsize=(30, 30))\n",
    "ax = fig.add_subplot(1, 2, 1, aspect='equal')\n",
    "modelmap = flopy.plot.PlotMapView(model=mf1)\n",
    "# modelmap.plot_bc('DRN', color='red')\n",
    "#quadmesh = modelmap.plot_ibound()\n",
    "quadmesh = modelmap.plot_array(head, alpha=0.8)\n",
    "linecollection = modelmap.plot_grid(linewidth=0.2)\n",
    "plt.colorbar(quadmesh, ax=ax, shrink=0.5)\n",
    "plt.show()"
   ]
  },
  {
   "cell_type": "code",
   "execution_count": null,
   "metadata": {},
   "outputs": [],
   "source": [
    "fig = plt.figure(figsize=(15, 6))\n",
    "ax = fig.add_subplot(1, 1, 1)\n",
    "# Next we create an instance of the ModelCrossSection class\n",
    "#modelxsect = flopy.plot.ModelCrossSection(model=ml, line={'Column': 5})\n",
    "modelxsect = flopy.plot.PlotCrossSection(model=mf1, line={'Row': 10})\n",
    "\n",
    "# Then we can use the plot_grid() method to draw the grid\n",
    "# The return value for this function is a matplotlib LineCollection object,\n",
    "# which could be manipulated (or used) later if necessary.\n",
    "linecollection = modelxsect.plot_grid(linewidth=0.4)\n",
    "linecollection = modelxsect.plot_surface(head,ax=ax)\n",
    "t = ax.set_title('Column 6 Cross-Section - Model Grid')"
   ]
  },
  {
   "cell_type": "code",
   "execution_count": null,
   "metadata": {},
   "outputs": [],
   "source": []
  }
 ],
 "metadata": {
  "kernelspec": {
   "display_name": "Python 3",
   "language": "python",
   "name": "python3"
  },
  "language_info": {
   "codemirror_mode": {
    "name": "ipython",
    "version": 3
   },
   "file_extension": ".py",
   "mimetype": "text/x-python",
   "name": "python",
   "nbconvert_exporter": "python",
   "pygments_lexer": "ipython3",
   "version": "3.10.4"
  }
 },
 "nbformat": 4,
 "nbformat_minor": 2
}
